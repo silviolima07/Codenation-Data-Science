{
  "nbformat": 4,
  "nbformat_minor": 0,
  "metadata": {
    "kernelspec": {
      "display_name": "Python 3",
      "language": "python",
      "name": "python3"
    },
    "language_info": {
      "codemirror_mode": {
        "name": "ipython",
        "version": 3
      },
      "file_extension": ".py",
      "mimetype": "text/x-python",
      "name": "python",
      "nbconvert_exporter": "python",
      "pygments_lexer": "ipython3",
      "version": "3.7.2"
    },
    "colab": {
      "name": "desafio_1.ipynb",
      "provenance": [],
      "include_colab_link": true
    }
  },
  "cells": [
    {
      "cell_type": "markdown",
      "metadata": {
        "id": "view-in-github",
        "colab_type": "text"
      },
      "source": [
        "<a href=\"https://colab.research.google.com/github/silviolima07/Codenation-Data-Science/blob/master/desafio_1.ipynb\" target=\"_parent\"><img src=\"https://colab.research.google.com/assets/colab-badge.svg\" alt=\"Open In Colab\"/></a>"
      ]
    },
    {
      "cell_type": "markdown",
      "metadata": {
        "id": "09NTDn3k7m7m",
        "colab_type": "text"
      },
      "source": [
        "## Desafio 1\n",
        "# Conhecendo melhor nossa base de consumidores: \n",
        "# qual estado possui os clientes com melhores pontuações de crédito?"
      ]
    },
    {
      "cell_type": "markdown",
      "metadata": {
        "id": "cF57TF-G7m7o",
        "colab_type": "text"
      },
      "source": [
        "# Objetivo\n",
        "Queremos conhecer melhor nossos clientes por estado. Para isso, iniciamos uma análise na pontuação de crédito. Para realizar a verificação inicial, precisamos de alguns valores. Os valores são a média, a mediana, a moda e o desvio padrão da pontuação de crédito.\n",
        "\n",
        "Tópicos\n",
        "Neste desafio você aprenderá:\n",
        "\n",
        "- Média;\n",
        "- Mediana;\n",
        "- Moda;\n",
        "- Desvio padrão."
      ]
    },
    {
      "cell_type": "code",
      "metadata": {
        "id": "DQ1svjsJ7m7t",
        "colab_type": "code",
        "colab": {}
      },
      "source": [
        "#!pip install seaborn\n",
        "# Carregando os pacotes\n",
        "import pandas as pd\n",
        "import numpy as np\n",
        "import seaborn as sns\n",
        "sns.set(color_codes=True)\n",
        "import matplotlib.pyplot as plt\n",
        "\n",
        "# Evitar que aparece os warnings\n",
        "import warnings\n",
        "warnings.filterwarnings(\"ignore\")\n",
        "\n",
        "# Seta algumas opções no Jupyter para exibição dos datasets\n",
        "#pd.set_option('display.max_columns', 200)\n",
        "#pd.set_option('display.max_rows', 200)"
      ],
      "execution_count": 0,
      "outputs": []
    },
    {
      "cell_type": "code",
      "metadata": {
        "id": "xq5USJoA7m70",
        "colab_type": "code",
        "colab": {}
      },
      "source": [
        "def start():\n",
        "    options = {\n",
        "        'display': {\n",
        "            'max_columns': None,\n",
        "            'max_colwidth': 25,\n",
        "            'expand_frame_repr': False,  # Don't wrap to multiple pages\n",
        "            'max_rows': 14,\n",
        "            'max_seq_items': 50,         # Max length of printed sequence\n",
        "            'precision': 2,\n",
        "            'show_dimensions': False\n",
        "        },\n",
        "        'mode': {\n",
        "            'chained_assignment': None   # Controls SettingWithCopyWarning\n",
        "        }\n",
        "    }\n",
        "\n",
        "    for category, option in options.items():\n",
        "        for op, value in option.items():\n",
        "            pd.set_option(f'{category}.{op}', value)  # Python 3.6+"
      ],
      "execution_count": 0,
      "outputs": []
    },
    {
      "cell_type": "code",
      "metadata": {
        "id": "klJLvaBT7m77",
        "colab_type": "code",
        "colab": {}
      },
      "source": [
        "start()"
      ],
      "execution_count": 0,
      "outputs": []
    },
    {
      "cell_type": "code",
      "metadata": {
        "id": "YQgBnHmU7m8B",
        "colab_type": "code",
        "colab": {}
      },
      "source": [
        "# Funcao para reducao da memoria utilizada\n",
        "def reduce_mem_usage(df, verbose=True):\n",
        "    numerics = ['int16', 'int32', 'int64', 'float16', 'float32', 'float64']\n",
        "    start_mem = df.memory_usage().sum() / 1024**2    \n",
        "    for col in df.columns:\n",
        "        col_type = df[col].dtypes\n",
        "        if col_type in numerics:\n",
        "            c_min = df[col].min()\n",
        "            c_max = df[col].max()\n",
        "            if str(col_type)[:3] == 'int':\n",
        "                if c_min > np.iinfo(np.int8).min and c_max < np.iinfo(np.int8).max:\n",
        "                    df[col] = df[col].astype(np.int8)\n",
        "                elif c_min > np.iinfo(np.int16).min and c_max < np.iinfo(np.int16).max:\n",
        "                    df[col] = df[col].astype(np.int16)\n",
        "                elif c_min > np.iinfo(np.int32).min and c_max < np.iinfo(np.int32).max:\n",
        "                    df[col] = df[col].astype(np.int32)\n",
        "                elif c_min > np.iinfo(np.int64).min and c_max < np.iinfo(np.int64).max:\n",
        "                    df[col] = df[col].astype(np.int64)  \n",
        "            else:\n",
        "                if c_min > np.finfo(np.float16).min and c_max < np.finfo(np.float16).max:\n",
        "                    df[col] = df[col].astype(np.float16)\n",
        "                elif c_min > np.finfo(np.float32).min and c_max < np.finfo(np.float32).max:\n",
        "                    df[col] = df[col].astype(np.float32)\n",
        "                else:\n",
        "                    df[col] = df[col].astype(np.float64)    \n",
        "    end_mem = df.memory_usage().sum() / 1024**2\n",
        "    if verbose: print('Mem. usage decreased to {:5.2f} Mb ({:.1f}% reduction)'.format(end_mem, 100 * (start_mem - end_mem) / start_mem))\n",
        "    return df"
      ],
      "execution_count": 0,
      "outputs": []
    },
    {
      "cell_type": "code",
      "metadata": {
        "id": "E61SjQwu7m8e",
        "colab_type": "code",
        "colab": {}
      },
      "source": [
        "# Funcao para realizar a leitura dos arquivos\n",
        "def read_data():\n",
        "     \n",
        "        print('Carregando os arquivos...')\n",
        "        data = pd.read_csv('desafio1.csv', encoding='latin')\n",
        "        data = reduce_mem_usage(data)\n",
        "        print('desafio1.csv tem {} linhas e {} colunas'.format(data.shape[0], data.shape[1]))\n",
        "    \n",
        "        return data"
      ],
      "execution_count": 0,
      "outputs": []
    },
    {
      "cell_type": "code",
      "metadata": {
        "id": "x0RIEwR87m8k",
        "colab_type": "code",
        "colab": {}
      },
      "source": [
        "# Funcao para retornar a média, mediana, moda e desvio padrao por Estado de residencia da pontuacao de credtio\n",
        "def pontua(dados):\n",
        "    media = df2.groupby(dados.estado_residencia).mean()/1.0\n",
        "    mediana = df2.groupby(dados.estado_residencia).median()/1.0\n",
        "    des_pad = df2.groupby(dados.estado_residencia).std()/1.0\n",
        "    mode = df2.groupby(dados.estado_residencia).pontuacao_credito.apply((lambda x: x.mode()))/1.0\n",
        "    return media.pontuacao_credito, mediana.pontuacao_credito, des_pad.pontuacao_credito,mode"
      ],
      "execution_count": 0,
      "outputs": []
    },
    {
      "cell_type": "code",
      "metadata": {
        "id": "FYIq96bg7m8q",
        "colab_type": "code",
        "colab": {},
        "outputId": "c7ef4b35-4aa0-4974-c5bf-5d9fa549e0ea"
      },
      "source": [
        "df = read_data()"
      ],
      "execution_count": 0,
      "outputs": [
        {
          "output_type": "stream",
          "text": [
            "Carregando os arquivos...\n",
            "Mem. usage decreased to  0.30 Mb (53.1% reduction)\n",
            "desafio1.csv tem 7000 linhas e 12 colunas\n"
          ],
          "name": "stdout"
        }
      ]
    },
    {
      "cell_type": "code",
      "metadata": {
        "id": "M5fspcUA7m80",
        "colab_type": "code",
        "colab": {},
        "outputId": "3777859d-2ee1-48e3-e6e8-9a9365b79d88"
      },
      "source": [
        "df.head()"
      ],
      "execution_count": 0,
      "outputs": [
        {
          "output_type": "execute_result",
          "data": {
            "text/html": [
              "<div>\n",
              "<style scoped>\n",
              "    .dataframe tbody tr th:only-of-type {\n",
              "        vertical-align: middle;\n",
              "    }\n",
              "\n",
              "    .dataframe tbody tr th {\n",
              "        vertical-align: top;\n",
              "    }\n",
              "\n",
              "    .dataframe thead th {\n",
              "        text-align: right;\n",
              "    }\n",
              "</style>\n",
              "<table border=\"1\" class=\"dataframe\">\n",
              "  <thead>\n",
              "    <tr style=\"text-align: right;\">\n",
              "      <th></th>\n",
              "      <th>RowNumber</th>\n",
              "      <th>id</th>\n",
              "      <th>sobrenome</th>\n",
              "      <th>pontuacao_credito</th>\n",
              "      <th>estado_residencia</th>\n",
              "      <th>genero</th>\n",
              "      <th>idade</th>\n",
              "      <th>nivel_estabilidade</th>\n",
              "      <th>saldo_conta</th>\n",
              "      <th>numero_produtos</th>\n",
              "      <th>possui_cartao_de_credito</th>\n",
              "      <th>membro_ativo</th>\n",
              "    </tr>\n",
              "  </thead>\n",
              "  <tbody>\n",
              "    <tr>\n",
              "      <th>0</th>\n",
              "      <td>1</td>\n",
              "      <td>e7f44fcbd380d4cef7e6c...</td>\n",
              "      <td>6d6e0aa1b9b413e442e2f...</td>\n",
              "      <td>619</td>\n",
              "      <td>SC</td>\n",
              "      <td>F</td>\n",
              "      <td>42</td>\n",
              "      <td>2</td>\n",
              "      <td>0.00</td>\n",
              "      <td>1</td>\n",
              "      <td>1</td>\n",
              "      <td>1</td>\n",
              "    </tr>\n",
              "    <tr>\n",
              "      <th>1</th>\n",
              "      <td>2</td>\n",
              "      <td>28dcb083ad90512da16b9...</td>\n",
              "      <td>48e1ad846796fa314f1b4...</td>\n",
              "      <td>608</td>\n",
              "      <td>RS</td>\n",
              "      <td>F</td>\n",
              "      <td>41</td>\n",
              "      <td>1</td>\n",
              "      <td>83807.86</td>\n",
              "      <td>1</td>\n",
              "      <td>0</td>\n",
              "      <td>1</td>\n",
              "    </tr>\n",
              "    <tr>\n",
              "      <th>2</th>\n",
              "      <td>3</td>\n",
              "      <td>774bc378f787438c9c759...</td>\n",
              "      <td>f2b29d5d934de615812b6...</td>\n",
              "      <td>502</td>\n",
              "      <td>SC</td>\n",
              "      <td>F</td>\n",
              "      <td>42</td>\n",
              "      <td>8</td>\n",
              "      <td>159660.80</td>\n",
              "      <td>3</td>\n",
              "      <td>1</td>\n",
              "      <td>0</td>\n",
              "    </tr>\n",
              "    <tr>\n",
              "      <th>3</th>\n",
              "      <td>4</td>\n",
              "      <td>043a71326f7096de155e7...</td>\n",
              "      <td>85d5c9da7cddd8109ad32...</td>\n",
              "      <td>699</td>\n",
              "      <td>SC</td>\n",
              "      <td>F</td>\n",
              "      <td>39</td>\n",
              "      <td>1</td>\n",
              "      <td>0.00</td>\n",
              "      <td>2</td>\n",
              "      <td>0</td>\n",
              "      <td>0</td>\n",
              "    </tr>\n",
              "    <tr>\n",
              "      <th>4</th>\n",
              "      <td>5</td>\n",
              "      <td>37b3bb8ca243955fb3605...</td>\n",
              "      <td>ddc89c837a6933639de75...</td>\n",
              "      <td>850</td>\n",
              "      <td>RS</td>\n",
              "      <td>F</td>\n",
              "      <td>43</td>\n",
              "      <td>2</td>\n",
              "      <td>125510.82</td>\n",
              "      <td>1</td>\n",
              "      <td>1</td>\n",
              "      <td>1</td>\n",
              "    </tr>\n",
              "  </tbody>\n",
              "</table>\n",
              "</div>"
            ],
            "text/plain": [
              "   RowNumber                        id                 sobrenome  pontuacao_credito estado_residencia genero  idade  nivel_estabilidade  saldo_conta  numero_produtos  possui_cartao_de_credito  membro_ativo\n",
              "0          1  e7f44fcbd380d4cef7e6c...  6d6e0aa1b9b413e442e2f...                619                SC      F     42                   2         0.00                1                         1             1\n",
              "1          2  28dcb083ad90512da16b9...  48e1ad846796fa314f1b4...                608                RS      F     41                   1     83807.86                1                         0             1\n",
              "2          3  774bc378f787438c9c759...  f2b29d5d934de615812b6...                502                SC      F     42                   8    159660.80                3                         1             0\n",
              "3          4  043a71326f7096de155e7...  85d5c9da7cddd8109ad32...                699                SC      F     39                   1         0.00                2                         0             0\n",
              "4          5  37b3bb8ca243955fb3605...  ddc89c837a6933639de75...                850                RS      F     43                   2    125510.82                1                         1             1"
            ]
          },
          "metadata": {
            "tags": []
          },
          "execution_count": 208
        }
      ]
    },
    {
      "cell_type": "code",
      "metadata": {
        "id": "3QEG1QyT7m8_",
        "colab_type": "code",
        "colab": {},
        "outputId": "33f75d2a-50a6-4735-e149-1849970805a2"
      },
      "source": [
        "colunas = df.columns\n",
        "colunas"
      ],
      "execution_count": 0,
      "outputs": [
        {
          "output_type": "execute_result",
          "data": {
            "text/plain": [
              "Index(['RowNumber', 'id', 'sobrenome', 'pontuacao_credito',\n",
              "       'estado_residencia', 'genero', 'idade', 'nivel_estabilidade',\n",
              "       'saldo_conta', 'numero_produtos', 'possui_cartao_de_credito',\n",
              "       'membro_ativo'],\n",
              "      dtype='object')"
            ]
          },
          "metadata": {
            "tags": []
          },
          "execution_count": 209
        }
      ]
    },
    {
      "cell_type": "code",
      "metadata": {
        "id": "KGxIeiuT7m9F",
        "colab_type": "code",
        "colab": {},
        "outputId": "c212b8da-b64d-45fd-a788-140f385731a7"
      },
      "source": [
        "df.describe().T"
      ],
      "execution_count": 0,
      "outputs": [
        {
          "output_type": "execute_result",
          "data": {
            "text/html": [
              "<div>\n",
              "<style scoped>\n",
              "    .dataframe tbody tr th:only-of-type {\n",
              "        vertical-align: middle;\n",
              "    }\n",
              "\n",
              "    .dataframe tbody tr th {\n",
              "        vertical-align: top;\n",
              "    }\n",
              "\n",
              "    .dataframe thead th {\n",
              "        text-align: right;\n",
              "    }\n",
              "</style>\n",
              "<table border=\"1\" class=\"dataframe\">\n",
              "  <thead>\n",
              "    <tr style=\"text-align: right;\">\n",
              "      <th></th>\n",
              "      <th>count</th>\n",
              "      <th>mean</th>\n",
              "      <th>std</th>\n",
              "      <th>min</th>\n",
              "      <th>25%</th>\n",
              "      <th>50%</th>\n",
              "      <th>75%</th>\n",
              "      <th>max</th>\n",
              "    </tr>\n",
              "  </thead>\n",
              "  <tbody>\n",
              "    <tr>\n",
              "      <th>RowNumber</th>\n",
              "      <td>7000.0</td>\n",
              "      <td>3500.50</td>\n",
              "      <td>2020.87</td>\n",
              "      <td>1.0</td>\n",
              "      <td>1750.75</td>\n",
              "      <td>3500.50</td>\n",
              "      <td>5250.25</td>\n",
              "      <td>7000.00</td>\n",
              "    </tr>\n",
              "    <tr>\n",
              "      <th>pontuacao_credito</th>\n",
              "      <td>7000.0</td>\n",
              "      <td>649.79</td>\n",
              "      <td>97.05</td>\n",
              "      <td>350.0</td>\n",
              "      <td>582.00</td>\n",
              "      <td>651.00</td>\n",
              "      <td>717.00</td>\n",
              "      <td>850.00</td>\n",
              "    </tr>\n",
              "    <tr>\n",
              "      <th>idade</th>\n",
              "      <td>7000.0</td>\n",
              "      <td>38.89</td>\n",
              "      <td>10.47</td>\n",
              "      <td>18.0</td>\n",
              "      <td>32.00</td>\n",
              "      <td>37.00</td>\n",
              "      <td>44.00</td>\n",
              "      <td>92.00</td>\n",
              "    </tr>\n",
              "    <tr>\n",
              "      <th>nivel_estabilidade</th>\n",
              "      <td>7000.0</td>\n",
              "      <td>5.01</td>\n",
              "      <td>2.89</td>\n",
              "      <td>0.0</td>\n",
              "      <td>3.00</td>\n",
              "      <td>5.00</td>\n",
              "      <td>7.25</td>\n",
              "      <td>10.00</td>\n",
              "    </tr>\n",
              "    <tr>\n",
              "      <th>saldo_conta</th>\n",
              "      <td>7000.0</td>\n",
              "      <td>76471.88</td>\n",
              "      <td>62403.38</td>\n",
              "      <td>0.0</td>\n",
              "      <td>0.00</td>\n",
              "      <td>97277.13</td>\n",
              "      <td>127537.15</td>\n",
              "      <td>250898.09</td>\n",
              "    </tr>\n",
              "    <tr>\n",
              "      <th>numero_produtos</th>\n",
              "      <td>7000.0</td>\n",
              "      <td>1.53</td>\n",
              "      <td>0.58</td>\n",
              "      <td>1.0</td>\n",
              "      <td>1.00</td>\n",
              "      <td>1.00</td>\n",
              "      <td>2.00</td>\n",
              "      <td>4.00</td>\n",
              "    </tr>\n",
              "    <tr>\n",
              "      <th>possui_cartao_de_credito</th>\n",
              "      <td>7000.0</td>\n",
              "      <td>0.70</td>\n",
              "      <td>0.46</td>\n",
              "      <td>0.0</td>\n",
              "      <td>0.00</td>\n",
              "      <td>1.00</td>\n",
              "      <td>1.00</td>\n",
              "      <td>1.00</td>\n",
              "    </tr>\n",
              "    <tr>\n",
              "      <th>membro_ativo</th>\n",
              "      <td>7000.0</td>\n",
              "      <td>0.51</td>\n",
              "      <td>0.50</td>\n",
              "      <td>0.0</td>\n",
              "      <td>0.00</td>\n",
              "      <td>1.00</td>\n",
              "      <td>1.00</td>\n",
              "      <td>1.00</td>\n",
              "    </tr>\n",
              "  </tbody>\n",
              "</table>\n",
              "</div>"
            ],
            "text/plain": [
              "                           count      mean       std    min      25%       50%        75%        max\n",
              "RowNumber                 7000.0   3500.50   2020.87    1.0  1750.75   3500.50    5250.25    7000.00\n",
              "pontuacao_credito         7000.0    649.79     97.05  350.0   582.00    651.00     717.00     850.00\n",
              "idade                     7000.0     38.89     10.47   18.0    32.00     37.00      44.00      92.00\n",
              "nivel_estabilidade        7000.0      5.01      2.89    0.0     3.00      5.00       7.25      10.00\n",
              "saldo_conta               7000.0  76471.88  62403.38    0.0     0.00  97277.13  127537.15  250898.09\n",
              "numero_produtos           7000.0      1.53      0.58    1.0     1.00      1.00       2.00       4.00\n",
              "possui_cartao_de_credito  7000.0      0.70      0.46    0.0     0.00      1.00       1.00       1.00\n",
              "membro_ativo              7000.0      0.51      0.50    0.0     0.00      1.00       1.00       1.00"
            ]
          },
          "metadata": {
            "tags": []
          },
          "execution_count": 197
        }
      ]
    },
    {
      "cell_type": "code",
      "metadata": {
        "id": "36xylWYj7m9L",
        "colab_type": "code",
        "colab": {}
      },
      "source": [
        "df2 = df[['estado_residencia','pontuacao_credito']]\n"
      ],
      "execution_count": 0,
      "outputs": []
    },
    {
      "cell_type": "code",
      "metadata": {
        "scrolled": true,
        "id": "AKCl_2mQ7m9d",
        "colab_type": "code",
        "colab": {}
      },
      "source": [
        "media, mediana, desv_pad, mode = pontua(df2)\n",
        "\n"
      ],
      "execution_count": 0,
      "outputs": []
    },
    {
      "cell_type": "code",
      "metadata": {
        "id": "S0HD1ulK7m9k",
        "colab_type": "code",
        "colab": {}
      },
      "source": [
        "media_list = list(media)\n",
        "mediana_list = list(mediana)\n",
        "dp_list = list(desv_pad)\n",
        "moda_list = list(mode)"
      ],
      "execution_count": 0,
      "outputs": []
    },
    {
      "cell_type": "code",
      "metadata": {
        "id": "8dOjSFWL7m9p",
        "colab_type": "code",
        "colab": {},
        "outputId": "32d747cd-477c-45a6-c5b2-01a89b25abfe"
      },
      "source": [
        "media"
      ],
      "execution_count": 0,
      "outputs": [
        {
          "output_type": "execute_result",
          "data": {
            "text/plain": [
              "estado_residencia\n",
              "PR    648.96\n",
              "RS    651.11\n",
              "SC    649.54\n",
              "Name: pontuacao_credito, dtype: float64"
            ]
          },
          "metadata": {
            "tags": []
          },
          "execution_count": 241
        }
      ]
    },
    {
      "cell_type": "code",
      "metadata": {
        "id": "hJL-8lzj7m9u",
        "colab_type": "code",
        "colab": {}
      },
      "source": [
        "# Create DataFrame\n",
        "data = {'estado_residencia':['PR', 'RS', 'SC'], 'moda':moda_list, 'mediana':mediana_list,'media': media_list,'desvio_padrao':dp_list} \n",
        "df3 = pd.DataFrame(data) "
      ],
      "execution_count": 0,
      "outputs": []
    },
    {
      "cell_type": "code",
      "metadata": {
        "id": "XeFhYCpA7m91",
        "colab_type": "code",
        "colab": {},
        "outputId": "2f7020d8-000a-44ab-8c99-3db34eda966e"
      },
      "source": [
        "df3"
      ],
      "execution_count": 0,
      "outputs": [
        {
          "output_type": "execute_result",
          "data": {
            "text/html": [
              "<div>\n",
              "<style scoped>\n",
              "    .dataframe tbody tr th:only-of-type {\n",
              "        vertical-align: middle;\n",
              "    }\n",
              "\n",
              "    .dataframe tbody tr th {\n",
              "        vertical-align: top;\n",
              "    }\n",
              "\n",
              "    .dataframe thead th {\n",
              "        text-align: right;\n",
              "    }\n",
              "</style>\n",
              "<table border=\"1\" class=\"dataframe\">\n",
              "  <thead>\n",
              "    <tr style=\"text-align: right;\">\n",
              "      <th></th>\n",
              "      <th>estado_residencia</th>\n",
              "      <th>moda</th>\n",
              "      <th>mediana</th>\n",
              "      <th>media</th>\n",
              "      <th>desvio_padrao</th>\n",
              "    </tr>\n",
              "  </thead>\n",
              "  <tbody>\n",
              "    <tr>\n",
              "      <th>0</th>\n",
              "      <td>PR</td>\n",
              "      <td>850.0</td>\n",
              "      <td>650.0</td>\n",
              "      <td>648.96</td>\n",
              "      <td>98.61</td>\n",
              "    </tr>\n",
              "    <tr>\n",
              "      <th>1</th>\n",
              "      <td>RS</td>\n",
              "      <td>850.0</td>\n",
              "      <td>650.0</td>\n",
              "      <td>651.11</td>\n",
              "      <td>95.14</td>\n",
              "    </tr>\n",
              "    <tr>\n",
              "      <th>2</th>\n",
              "      <td>SC</td>\n",
              "      <td>850.0</td>\n",
              "      <td>653.0</td>\n",
              "      <td>649.54</td>\n",
              "      <td>97.23</td>\n",
              "    </tr>\n",
              "  </tbody>\n",
              "</table>\n",
              "</div>"
            ],
            "text/plain": [
              "  estado_residencia   moda  mediana   media  desvio_padrao\n",
              "0                PR  850.0    650.0  648.96          98.61\n",
              "1                RS  850.0    650.0  651.11          95.14\n",
              "2                SC  850.0    653.0  649.54          97.23"
            ]
          },
          "metadata": {
            "tags": []
          },
          "execution_count": 245
        }
      ]
    },
    {
      "cell_type": "code",
      "metadata": {
        "id": "fCGee2ht7m96",
        "colab_type": "code",
        "colab": {}
      },
      "source": [
        "#from scipy import stats\n",
        "#df2.groupby('estado_residencia').pontuacao_credito.apply(stats.mode)\n",
        "#mode = df2.groupby('estado_residencia').pontuacao_credito.apply((lambda x: x.mode()))"
      ],
      "execution_count": 0,
      "outputs": []
    },
    {
      "cell_type": "code",
      "metadata": {
        "id": "8guVLe-u7m-D",
        "colab_type": "code",
        "colab": {},
        "outputId": "eebb1ac4-8a4a-425c-f080-846eadc4eb76"
      },
      "source": [
        "# Formato para submissao\n",
        "{\"SC\": {\"moda\": 0.0, \"mediana\": 0.0, \"media\": 0.0, \"desvio_padrao\": 0.0}, \n",
        " \"RS\": {\"moda\": 0.0, \"mediana\": 0.0, \"media\": 0.0, \"desvio_padrao\": 0.0}, \n",
        " \"PR\": {\"moda\": 0.0, \"mediana\": 0.0, \"media\": 0.0, \"desvio_padrao\": 0.0}}"
      ],
      "execution_count": 0,
      "outputs": [
        {
          "output_type": "execute_result",
          "data": {
            "text/plain": [
              "{'SC': {'moda': 0.0, 'mediana': 0.0, 'media': 0.0, 'desvio_padrao': 0.0},\n",
              " 'RS': {'moda': 0.0, 'mediana': 0.0, 'media': 0.0, 'desvio_padrao': 0.0},\n",
              " 'PR': {'moda': 0.0, 'mediana': 0.0, 'media': 0.0, 'desvio_padrao': 0.0}}"
            ]
          },
          "metadata": {
            "tags": []
          },
          "execution_count": 225
        }
      ]
    },
    {
      "cell_type": "code",
      "metadata": {
        "id": "HAD5U2th7m-I",
        "colab_type": "code",
        "colab": {}
      },
      "source": [
        "df3[['moda','mediana','media','desvio_padrao']].to_json ('submission.json', orient='records')"
      ],
      "execution_count": 0,
      "outputs": []
    },
    {
      "cell_type": "code",
      "metadata": {
        "id": "f4rzuuSK7m-O",
        "colab_type": "code",
        "colab": {}
      },
      "source": [
        "# Incluir a sigla de cada Estado no arquivo json gerado na célula anterior\n",
        "df_final = {'PR':{\"moda\":850.0,\"mediana\":650.0,\"media\":648.9612940497,\"desvio_padrao\":98.6071859131},\n",
        " 'RS':{\"moda\":850.0,\"mediana\":650.0,\"media\":651.1051428571,\"desvio_padrao\":95.1365984138},\n",
        " 'SC':{\"moda\":850.0,\"mediana\":653.0,\"media\":649.5376527423,\"desvio_padrao\":97.2334927934}}"
      ],
      "execution_count": 0,
      "outputs": []
    },
    {
      "cell_type": "code",
      "metadata": {
        "id": "HzaQyD9h7m-U",
        "colab_type": "code",
        "colab": {},
        "outputId": "5d5a3245-ade5-4b24-bf79-3b18835738ea"
      },
      "source": [
        "df_final"
      ],
      "execution_count": 0,
      "outputs": [
        {
          "output_type": "execute_result",
          "data": {
            "text/plain": [
              "{'PR': {'moda': 850.0,\n",
              "  'mediana': 650.0,\n",
              "  'media': 648.9612940497,\n",
              "  'desvio_padrao': 98.6071859131},\n",
              " 'RS': {'moda': 850.0,\n",
              "  'mediana': 650.0,\n",
              "  'media': 651.1051428571,\n",
              "  'desvio_padrao': 95.1365984138},\n",
              " 'SC': {'moda': 850.0,\n",
              "  'mediana': 653.0,\n",
              "  'media': 649.5376527423,\n",
              "  'desvio_padrao': 97.2334927934}}"
            ]
          },
          "metadata": {
            "tags": []
          },
          "execution_count": 262
        }
      ]
    },
    {
      "cell_type": "code",
      "metadata": {
        "id": "RgStCOr67m-Z",
        "colab_type": "code",
        "colab": {}
      },
      "source": [
        ""
      ],
      "execution_count": 0,
      "outputs": []
    }
  ]
}