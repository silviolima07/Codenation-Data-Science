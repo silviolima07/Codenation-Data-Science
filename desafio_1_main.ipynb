{
  "nbformat": 4,
  "nbformat_minor": 0,
  "metadata": {
    "kernelspec": {
      "display_name": "Python 3",
      "language": "python",
      "name": "python3"
    },
    "language_info": {
      "codemirror_mode": {
        "name": "ipython",
        "version": 3
      },
      "file_extension": ".py",
      "mimetype": "text/x-python",
      "name": "python",
      "nbconvert_exporter": "python",
      "pygments_lexer": "ipython3",
      "version": "3.7.2"
    },
    "colab": {
      "name": "desafio_1_main.ipynb",
      "provenance": [],
      "collapsed_sections": [],
      "include_colab_link": true
    }
  },
  "cells": [
    {
      "cell_type": "markdown",
      "metadata": {
        "id": "view-in-github",
        "colab_type": "text"
      },
      "source": [
        "<a href=\"https://colab.research.google.com/github/silviolima07/Codenation-Data-Science/blob/master/desafio_1_main.ipynb\" target=\"_parent\"><img src=\"https://colab.research.google.com/assets/colab-badge.svg\" alt=\"Open In Colab\"/></a>"
      ]
    },
    {
      "cell_type": "markdown",
      "metadata": {
        "id": "MVRiN0URL8mV",
        "colab_type": "text"
      },
      "source": [
        "# Desafio 1\n",
        "\n",
        "Para esse desafio, vamos trabalhar com o data set [Black Friday](https://www.kaggle.com/mehdidag/black-friday), que reúne dados sobre transações de compras em uma loja de varejo.\n",
        "\n",
        "Vamos utilizá-lo para praticar a exploração de data sets utilizando pandas. Você pode fazer toda análise neste mesmo notebook, mas as resposta devem estar nos locais indicados.\n",
        "\n",
        "> Obs.: Por favor, não modifique o nome das funções de resposta."
      ]
    },
    {
      "cell_type": "markdown",
      "metadata": {
        "id": "yRLWJuT1L8mX",
        "colab_type": "text"
      },
      "source": [
        "## _Set up_ da análise"
      ]
    },
    {
      "cell_type": "code",
      "metadata": {
        "id": "5m9IQw9HL8mZ",
        "colab_type": "code",
        "colab": {}
      },
      "source": [
        "import pandas as pd\n",
        "import numpy as np"
      ],
      "execution_count": 0,
      "outputs": []
    },
    {
      "cell_type": "code",
      "metadata": {
        "id": "6EZFEI4BL8me",
        "colab_type": "code",
        "colab": {}
      },
      "source": [
        "black_friday = pd.read_csv(\"black_friday.csv\")"
      ],
      "execution_count": 0,
      "outputs": []
    },
    {
      "cell_type": "markdown",
      "metadata": {
        "id": "MzEBNw89L8mi",
        "colab_type": "text"
      },
      "source": [
        "## Inicie sua análise a partir daqui"
      ]
    },
    {
      "cell_type": "code",
      "metadata": {
        "id": "YZIfw2G5L8mj",
        "colab_type": "code",
        "colab": {},
        "outputId": "8ef53547-94c3-4832-8f6c-612bed7012dd"
      },
      "source": [
        "black_friday.info()"
      ],
      "execution_count": 0,
      "outputs": [
        {
          "output_type": "stream",
          "text": [
            "<class 'pandas.core.frame.DataFrame'>\n",
            "RangeIndex: 537577 entries, 0 to 537576\n",
            "Data columns (total 12 columns):\n",
            "User_ID                       537577 non-null int64\n",
            "Product_ID                    537577 non-null object\n",
            "Gender                        537577 non-null object\n",
            "Age                           537577 non-null object\n",
            "Occupation                    537577 non-null int64\n",
            "City_Category                 537577 non-null object\n",
            "Stay_In_Current_City_Years    537577 non-null object\n",
            "Marital_Status                537577 non-null int64\n",
            "Product_Category_1            537577 non-null int64\n",
            "Product_Category_2            370591 non-null float64\n",
            "Product_Category_3            164278 non-null float64\n",
            "Purchase                      537577 non-null int64\n",
            "dtypes: float64(2), int64(5), object(5)\n",
            "memory usage: 49.2+ MB\n"
          ],
          "name": "stdout"
        }
      ]
    },
    {
      "cell_type": "code",
      "metadata": {
        "id": "DUgPrTQ8L8mo",
        "colab_type": "code",
        "colab": {},
        "outputId": "5b388694-426e-4a68-a1b8-2783023c303e"
      },
      "source": [
        "black_friday.describe().T"
      ],
      "execution_count": 0,
      "outputs": [
        {
          "output_type": "execute_result",
          "data": {
            "text/html": [
              "<div>\n",
              "<style scoped>\n",
              "    .dataframe tbody tr th:only-of-type {\n",
              "        vertical-align: middle;\n",
              "    }\n",
              "\n",
              "    .dataframe tbody tr th {\n",
              "        vertical-align: top;\n",
              "    }\n",
              "\n",
              "    .dataframe thead th {\n",
              "        text-align: right;\n",
              "    }\n",
              "</style>\n",
              "<table border=\"1\" class=\"dataframe\">\n",
              "  <thead>\n",
              "    <tr style=\"text-align: right;\">\n",
              "      <th></th>\n",
              "      <th>count</th>\n",
              "      <th>mean</th>\n",
              "      <th>std</th>\n",
              "      <th>min</th>\n",
              "      <th>25%</th>\n",
              "      <th>50%</th>\n",
              "      <th>75%</th>\n",
              "      <th>max</th>\n",
              "    </tr>\n",
              "  </thead>\n",
              "  <tbody>\n",
              "    <tr>\n",
              "      <th>User_ID</th>\n",
              "      <td>537577.0</td>\n",
              "      <td>1.002992e+06</td>\n",
              "      <td>1714.392695</td>\n",
              "      <td>1000001.0</td>\n",
              "      <td>1001495.0</td>\n",
              "      <td>1003031.0</td>\n",
              "      <td>1004417.0</td>\n",
              "      <td>1006040.0</td>\n",
              "    </tr>\n",
              "    <tr>\n",
              "      <th>Occupation</th>\n",
              "      <td>537577.0</td>\n",
              "      <td>8.082710e+00</td>\n",
              "      <td>6.524120</td>\n",
              "      <td>0.0</td>\n",
              "      <td>2.0</td>\n",
              "      <td>7.0</td>\n",
              "      <td>14.0</td>\n",
              "      <td>20.0</td>\n",
              "    </tr>\n",
              "    <tr>\n",
              "      <th>Marital_Status</th>\n",
              "      <td>537577.0</td>\n",
              "      <td>4.087973e-01</td>\n",
              "      <td>0.491612</td>\n",
              "      <td>0.0</td>\n",
              "      <td>0.0</td>\n",
              "      <td>0.0</td>\n",
              "      <td>1.0</td>\n",
              "      <td>1.0</td>\n",
              "    </tr>\n",
              "    <tr>\n",
              "      <th>Product_Category_1</th>\n",
              "      <td>537577.0</td>\n",
              "      <td>5.295546e+00</td>\n",
              "      <td>3.750701</td>\n",
              "      <td>1.0</td>\n",
              "      <td>1.0</td>\n",
              "      <td>5.0</td>\n",
              "      <td>8.0</td>\n",
              "      <td>18.0</td>\n",
              "    </tr>\n",
              "    <tr>\n",
              "      <th>Product_Category_2</th>\n",
              "      <td>370591.0</td>\n",
              "      <td>9.842144e+00</td>\n",
              "      <td>5.087259</td>\n",
              "      <td>2.0</td>\n",
              "      <td>5.0</td>\n",
              "      <td>9.0</td>\n",
              "      <td>15.0</td>\n",
              "      <td>18.0</td>\n",
              "    </tr>\n",
              "    <tr>\n",
              "      <th>Product_Category_3</th>\n",
              "      <td>164278.0</td>\n",
              "      <td>1.266984e+01</td>\n",
              "      <td>4.124341</td>\n",
              "      <td>3.0</td>\n",
              "      <td>9.0</td>\n",
              "      <td>14.0</td>\n",
              "      <td>16.0</td>\n",
              "      <td>18.0</td>\n",
              "    </tr>\n",
              "    <tr>\n",
              "      <th>Purchase</th>\n",
              "      <td>537577.0</td>\n",
              "      <td>9.333860e+03</td>\n",
              "      <td>4981.022133</td>\n",
              "      <td>185.0</td>\n",
              "      <td>5866.0</td>\n",
              "      <td>8062.0</td>\n",
              "      <td>12073.0</td>\n",
              "      <td>23961.0</td>\n",
              "    </tr>\n",
              "  </tbody>\n",
              "</table>\n",
              "</div>"
            ],
            "text/plain": [
              "                       count          mean          std        min        25%  \\\n",
              "User_ID             537577.0  1.002992e+06  1714.392695  1000001.0  1001495.0   \n",
              "Occupation          537577.0  8.082710e+00     6.524120        0.0        2.0   \n",
              "Marital_Status      537577.0  4.087973e-01     0.491612        0.0        0.0   \n",
              "Product_Category_1  537577.0  5.295546e+00     3.750701        1.0        1.0   \n",
              "Product_Category_2  370591.0  9.842144e+00     5.087259        2.0        5.0   \n",
              "Product_Category_3  164278.0  1.266984e+01     4.124341        3.0        9.0   \n",
              "Purchase            537577.0  9.333860e+03  4981.022133      185.0     5866.0   \n",
              "\n",
              "                          50%        75%        max  \n",
              "User_ID             1003031.0  1004417.0  1006040.0  \n",
              "Occupation                7.0       14.0       20.0  \n",
              "Marital_Status            0.0        1.0        1.0  \n",
              "Product_Category_1        5.0        8.0       18.0  \n",
              "Product_Category_2        9.0       15.0       18.0  \n",
              "Product_Category_3       14.0       16.0       18.0  \n",
              "Purchase               8062.0    12073.0    23961.0  "
            ]
          },
          "metadata": {
            "tags": []
          },
          "execution_count": 14
        }
      ]
    },
    {
      "cell_type": "markdown",
      "metadata": {
        "id": "SGr7i9OFL8mu",
        "colab_type": "text"
      },
      "source": [
        "## Questão 1\n",
        "\n",
        "Quantas observações e quantas colunas há no dataset? Responda no formato de uma tuple `(n_observacoes, n_colunas)`."
      ]
    },
    {
      "cell_type": "code",
      "metadata": {
        "id": "OhGBAzURL8mv",
        "colab_type": "code",
        "colab": {}
      },
      "source": [
        "def q1():\n",
        "    # Retorne aqui o resultado da questão 1.\n",
        "    return black_friday.shape"
      ],
      "execution_count": 0,
      "outputs": []
    },
    {
      "cell_type": "markdown",
      "metadata": {
        "id": "97JqzO2GL8m0",
        "colab_type": "text"
      },
      "source": [
        "## Questão 2\n",
        "\n",
        "Há quantas mulheres com idade entre 26 e 35 anos no dataset? Responda como um único escalar."
      ]
    },
    {
      "cell_type": "code",
      "metadata": {
        "id": "epjskb4eL8m1",
        "colab_type": "code",
        "colab": {}
      },
      "source": [
        "def q2():\n",
        "    # Retorne aqui o resultado da questão 2.\n",
        "    age_filter = black_friday.loc[black_friday['Age'] == '26-35']\n",
        "    gender_female = age_filter.loc[age_filter['Gender'] == 'F']\n",
        "    return len(gender_female)"
      ],
      "execution_count": 0,
      "outputs": []
    },
    {
      "cell_type": "markdown",
      "metadata": {
        "id": "UkBaG8I-L8m6",
        "colab_type": "text"
      },
      "source": [
        "## Questão 3\n",
        "\n",
        "Quantos usuários únicos há no dataset? Responda como um único escalar."
      ]
    },
    {
      "cell_type": "code",
      "metadata": {
        "id": "AA3vs0StL8m7",
        "colab_type": "code",
        "colab": {}
      },
      "source": [
        "def q3():\n",
        "    # Retorne aqui o resultado da questão 3.\n",
        "    return len(black_friday['User_ID'].unique())"
      ],
      "execution_count": 0,
      "outputs": []
    },
    {
      "cell_type": "markdown",
      "metadata": {
        "id": "cR_s6wW3L8m_",
        "colab_type": "text"
      },
      "source": [
        "## Questão 4\n",
        "\n",
        "Quantos tipos de dados diferentes existem no dataset? Responda como um único escalar."
      ]
    },
    {
      "cell_type": "code",
      "metadata": {
        "id": "qqT37mw4L8m_",
        "colab_type": "code",
        "colab": {}
      },
      "source": [
        "def q4():\n",
        "    # Retorne aqui o resultado da questão 4.\n",
        "    return len(black_friday.dtypes.unique())"
      ],
      "execution_count": 0,
      "outputs": []
    },
    {
      "cell_type": "markdown",
      "metadata": {
        "id": "D3Hw2ZOZL8nD",
        "colab_type": "text"
      },
      "source": [
        "## Questão 5\n",
        "\n",
        "Qual porcentagem dos registros possui ao menos um valor null (`None`, `ǸaN` etc)? Responda como um único escalar entre 0 e 1."
      ]
    },
    {
      "cell_type": "code",
      "metadata": {
        "id": "3h6FWDvvL8nE",
        "colab_type": "code",
        "colab": {}
      },
      "source": [
        "def q5():\n",
        "    # Retorne aqui o resultado da questão 5.\n",
        "    # (total - quantidade_nao_nulos) = quantidade_nulos\n",
        "    # (total - quantidade_nao_nulos) / total = porcentagens_nulos\n",
        "    return (black_friday.shape[0] - black_friday.dropna().shape[0]) / black_friday.shape[0]\n",
        "    "
      ],
      "execution_count": 0,
      "outputs": []
    },
    {
      "cell_type": "markdown",
      "metadata": {
        "id": "SI0QHtIwL8nI",
        "colab_type": "text"
      },
      "source": [
        "## Questão 6\n",
        "\n",
        "Quantos valores null existem na variável (coluna) com o maior número de null? Responda como um único escalar."
      ]
    },
    {
      "cell_type": "code",
      "metadata": {
        "id": "XmguB-p8L8nJ",
        "colab_type": "code",
        "colab": {}
      },
      "source": [
        "def q6():\n",
        "    # Retorne aqui o resultado da questão 6.\n",
        "    return int(black_friday.isnull().sum().max())"
      ],
      "execution_count": 0,
      "outputs": []
    },
    {
      "cell_type": "markdown",
      "metadata": {
        "id": "3_lpoN7yL8nN",
        "colab_type": "text"
      },
      "source": [
        "## Questão 7\n",
        "\n",
        "Qual o valor mais frequente (sem contar nulls) em `Product_Category_3`? Responda como um único escalar."
      ]
    },
    {
      "cell_type": "code",
      "metadata": {
        "id": "PPEwJgMlL8nN",
        "colab_type": "code",
        "colab": {}
      },
      "source": [
        "def q7():\n",
        "    # Retorne aqui o resultado da questão 7.\n",
        "    return float(black_friday['Product_Category_3'].mode())\n"
      ],
      "execution_count": 0,
      "outputs": []
    },
    {
      "cell_type": "markdown",
      "metadata": {
        "id": "Q_cHnhk5L8nR",
        "colab_type": "text"
      },
      "source": [
        "## Questão 8\n",
        "\n",
        "Qual a nova média da variável (coluna) `Purchase` após sua normalização? Responda como um único escalar."
      ]
    },
    {
      "cell_type": "code",
      "metadata": {
        "id": "nFKM2wLaL8nR",
        "colab_type": "code",
        "colab": {}
      },
      "source": [
        "def q8():\n",
        "    # Retorne aqui o resultado da questão 8.\n",
        "    purchases = black_friday['Purchase'].copy()\n",
        "    normalized_purchase = (purchases - purchases.min()) \\\n",
        "                        / (purchases.max() - purchases.min())\n",
        "    return float(normalized_purchase.mean())"
      ],
      "execution_count": 0,
      "outputs": []
    },
    {
      "cell_type": "markdown",
      "metadata": {
        "id": "CWfAQS6VL8nV",
        "colab_type": "text"
      },
      "source": [
        "## Questão 9\n",
        "\n",
        "Quantas ocorrências entre -1 e 1 inclusive existem da variáel `Purchase` após sua padronização? Responda como um único escalar."
      ]
    },
    {
      "cell_type": "code",
      "metadata": {
        "id": "UhFpGDMjL8nW",
        "colab_type": "code",
        "colab": {}
      },
      "source": [
        "def q9():\n",
        "    # Retorne aqui o resultado da questão 9.\n",
        "     # (valor - media) / desvio_padrao\n",
        "    purchase = black_friday['Purchase']    \n",
        "    standardized_purchase = (purchase - purchase.mean()) / purchase.std()\n",
        "    return int(standardized_purchase.between(-1, 1).sum())"
      ],
      "execution_count": 0,
      "outputs": []
    },
    {
      "cell_type": "markdown",
      "metadata": {
        "id": "pYbPxyo4L8nZ",
        "colab_type": "text"
      },
      "source": [
        "## Questão 10\n",
        "\n",
        "Podemos afirmar que se uma observação é null em `Product_Category_2` ela também o é em `Product_Category_3`? Responda com um bool (`True`, `False`)."
      ]
    },
    {
      "cell_type": "code",
      "metadata": {
        "id": "fQqFgWeuL8na",
        "colab_type": "code",
        "colab": {}
      },
      "source": [
        "def q10():\n",
        "    # Retorne aqui o resultado da questão 10.\n",
        "    if (black_friday['Product_Category_2'].isnull().any() and (black_friday['Product_Category_3'].isnull().any())):\n",
        "        return True\n",
        "    else:\n",
        "        return False"
      ],
      "execution_count": 0,
      "outputs": []
    },
    {
      "cell_type": "code",
      "metadata": {
        "id": "xvassR_2L8nm",
        "colab_type": "code",
        "colab": {}
      },
      "source": [
        ""
      ],
      "execution_count": 0,
      "outputs": []
    }
  ]
}